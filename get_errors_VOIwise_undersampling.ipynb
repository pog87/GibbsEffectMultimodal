{
 "cells": [
  {
   "cell_type": "code",
   "execution_count": 1,
   "metadata": {},
   "outputs": [],
   "source": [
    "import numpy as np\n",
    "import numpy.linalg as la\n",
    "\n",
    "import pandas as pd\n",
    "import nibabel as nib\n",
    "\n",
    "import glob as g"
   ]
  },
  {
   "cell_type": "code",
   "execution_count": 2,
   "metadata": {},
   "outputs": [],
   "source": [
    "# abs(sum(sum(t.*log(y)+ (1-t).*log(1-y)))/numel(t)) "
   ]
  },
  {
   "cell_type": "code",
   "execution_count": 3,
   "metadata": {},
   "outputs": [],
   "source": [
    "def matrix(fname):\n",
    "    a = nib.load(fname)\n",
    "    return np.asanyarray(a.dataobj)\n",
    "\n",
    "def evaluate(a,seg):\n",
    "    A = matrix(a)\n",
    "    Seg = matrix(seg)\n",
    "    val=list(set(Seg.reshape(-1)))\n",
    "    S=[]\n",
    "    for i in val:\n",
    "        S.append(np.mean(A[Seg==i]))\n",
    "    return np.array(S)"
   ]
  },
  {
   "cell_type": "code",
   "execution_count": 4,
   "metadata": {},
   "outputs": [
    {
     "name": "stdout",
     "output_type": "stream",
     "text": [
      "['ANTs/SL_lq_seg.nii.gz', 'ANTs/SL_lq_seg_multilab.nii.gz', 'ANTs/t1w_lq_seg.nii.gz', 'ANTs/t1w_lq_seg_multilab.nii.gz', 'ANTs/walnut_lq_seg.nii.gz', 'ANTs/walnut_lq_seg_multilab.nii.gz', 'FSL/SL_lq_seg.nii.gz', 'FSL/t1w_lq_seg.nii.gz', 'FSL/walnut_lq_seg.nii.gz', 'frees/SL_lq_seg.nii.gz', 'frees/t1w_lq_seg.nii.gz', 'frees/walnut_lq_seg.nii.gz']\n"
     ]
    }
   ],
   "source": [
    "F = sorted(g.glob(\"*/*lq_seg*nii.gz\"))\n",
    "print(F)"
   ]
  },
  {
   "cell_type": "code",
   "execution_count": 5,
   "metadata": {},
   "outputs": [
    {
     "name": "stdout",
     "output_type": "stream",
     "text": [
      "ANTs_SL_seg\n",
      "0.11715572\n",
      "ANTs_SL_multilab\n",
      "0.11714269\n",
      "ANTs_t1w_seg\n",
      "0.0025167628\n",
      "ANTs_t1w_multilab\n",
      "0.0028706791\n",
      "ANTs_walnut_seg\n",
      "0.0002865289\n",
      "ANTs_walnut_multilab\n",
      "0.0009803354\n",
      "FSL_SL_seg\n",
      "0.10844781\n",
      "FSL_t1w_seg\n",
      "0.0032679942\n",
      "FSL_walnut_seg\n",
      "0.003828886\n",
      "frees_SL_seg\n",
      "0.11715572\n",
      "frees_t1w_seg\n",
      "0.0025167628\n",
      "frees_walnut_seg\n",
      "0.0002865289\n"
     ]
    }
   ],
   "source": [
    "DF = []\n",
    "for f in F:\n",
    "    softw = f.split(\"/\")[0]\n",
    "    img = f.split(\"/\")[-1].split(\"_\")[0]\n",
    "    interp =  f.split(\"_\")[-1].replace(\".nii.gz\",\"\")\n",
    "    \n",
    "    name = softw + \"_\" + img + \"_\" + interp\n",
    "    print(name)\n",
    "    \n",
    "    lq = \"data/\" + img + \"_lq.nii.gz\"\n",
    "    hq = \"data/\" + img + \"_hq.nii.gz\"\n",
    "    hq_seg = \"data/\" + img + \"_hq_seg.nii.gz\"\n",
    "    \n",
    "    gold = evaluate(hq, hq_seg)\n",
    "    \n",
    "    res  = evaluate(lq,  f)\n",
    "    #print(gold, res)\n",
    "    err = la.norm(gold - res, 2)/la.norm(gold, 2)\n",
    "    \n",
    "    print(err)\n",
    "    DF.append([name, err])"
   ]
  },
  {
   "cell_type": "code",
   "execution_count": 6,
   "metadata": {},
   "outputs": [],
   "source": [
    "df = pd.DataFrame(DF, columns = [\"name\", \"error\"])"
   ]
  },
  {
   "cell_type": "code",
   "execution_count": 7,
   "metadata": {},
   "outputs": [
    {
     "data": {
      "text/html": [
       "<div>\n",
       "<style scoped>\n",
       "    .dataframe tbody tr th:only-of-type {\n",
       "        vertical-align: middle;\n",
       "    }\n",
       "\n",
       "    .dataframe tbody tr th {\n",
       "        vertical-align: top;\n",
       "    }\n",
       "\n",
       "    .dataframe thead th {\n",
       "        text-align: right;\n",
       "    }\n",
       "</style>\n",
       "<table border=\"1\" class=\"dataframe\">\n",
       "  <thead>\n",
       "    <tr style=\"text-align: right;\">\n",
       "      <th></th>\n",
       "      <th>name</th>\n",
       "      <th>error</th>\n",
       "    </tr>\n",
       "  </thead>\n",
       "  <tbody>\n",
       "    <tr>\n",
       "      <th>0</th>\n",
       "      <td>ANTs_SL_seg</td>\n",
       "      <td>0.117156</td>\n",
       "    </tr>\n",
       "    <tr>\n",
       "      <th>1</th>\n",
       "      <td>ANTs_SL_multilab</td>\n",
       "      <td>0.117143</td>\n",
       "    </tr>\n",
       "    <tr>\n",
       "      <th>2</th>\n",
       "      <td>ANTs_t1w_seg</td>\n",
       "      <td>0.002517</td>\n",
       "    </tr>\n",
       "    <tr>\n",
       "      <th>3</th>\n",
       "      <td>ANTs_t1w_multilab</td>\n",
       "      <td>0.002871</td>\n",
       "    </tr>\n",
       "    <tr>\n",
       "      <th>4</th>\n",
       "      <td>ANTs_walnut_seg</td>\n",
       "      <td>0.000287</td>\n",
       "    </tr>\n",
       "    <tr>\n",
       "      <th>5</th>\n",
       "      <td>ANTs_walnut_multilab</td>\n",
       "      <td>0.000980</td>\n",
       "    </tr>\n",
       "    <tr>\n",
       "      <th>6</th>\n",
       "      <td>FSL_SL_seg</td>\n",
       "      <td>0.108448</td>\n",
       "    </tr>\n",
       "    <tr>\n",
       "      <th>7</th>\n",
       "      <td>FSL_t1w_seg</td>\n",
       "      <td>0.003268</td>\n",
       "    </tr>\n",
       "    <tr>\n",
       "      <th>8</th>\n",
       "      <td>FSL_walnut_seg</td>\n",
       "      <td>0.003829</td>\n",
       "    </tr>\n",
       "    <tr>\n",
       "      <th>9</th>\n",
       "      <td>frees_SL_seg</td>\n",
       "      <td>0.117156</td>\n",
       "    </tr>\n",
       "    <tr>\n",
       "      <th>10</th>\n",
       "      <td>frees_t1w_seg</td>\n",
       "      <td>0.002517</td>\n",
       "    </tr>\n",
       "    <tr>\n",
       "      <th>11</th>\n",
       "      <td>frees_walnut_seg</td>\n",
       "      <td>0.000287</td>\n",
       "    </tr>\n",
       "  </tbody>\n",
       "</table>\n",
       "</div>"
      ],
      "text/plain": [
       "                    name     error\n",
       "0            ANTs_SL_seg  0.117156\n",
       "1       ANTs_SL_multilab  0.117143\n",
       "2           ANTs_t1w_seg  0.002517\n",
       "3      ANTs_t1w_multilab  0.002871\n",
       "4        ANTs_walnut_seg  0.000287\n",
       "5   ANTs_walnut_multilab  0.000980\n",
       "6             FSL_SL_seg  0.108448\n",
       "7            FSL_t1w_seg  0.003268\n",
       "8         FSL_walnut_seg  0.003829\n",
       "9           frees_SL_seg  0.117156\n",
       "10         frees_t1w_seg  0.002517\n",
       "11      frees_walnut_seg  0.000287"
      ]
     },
     "execution_count": 7,
     "metadata": {},
     "output_type": "execute_result"
    }
   ],
   "source": [
    "df"
   ]
  },
  {
   "cell_type": "code",
   "execution_count": 8,
   "metadata": {},
   "outputs": [],
   "source": [
    "#print(df.to_latex(index=False)) "
   ]
  },
  {
   "cell_type": "code",
   "execution_count": 9,
   "metadata": {},
   "outputs": [],
   "source": [
    "df.to_excel(\"VOI_undersampling.xlsx\")"
   ]
  },
  {
   "cell_type": "code",
   "execution_count": null,
   "metadata": {},
   "outputs": [],
   "source": []
  }
 ],
 "metadata": {
  "kernelspec": {
   "display_name": "Python 3",
   "language": "python",
   "name": "python3"
  },
  "language_info": {
   "codemirror_mode": {
    "name": "ipython",
    "version": 3
   },
   "file_extension": ".py",
   "mimetype": "text/x-python",
   "name": "python",
   "nbconvert_exporter": "python",
   "pygments_lexer": "ipython3",
   "version": "3.7.7"
  }
 },
 "nbformat": 4,
 "nbformat_minor": 4
}
